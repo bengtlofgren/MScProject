{
 "cells": [
  {
   "cell_type": "code",
   "execution_count": 33,
   "id": "97ddbeae-fb46-49d8-80e3-53fa39e90ddf",
   "metadata": {},
   "outputs": [],
   "source": [
    "import findiff\n",
    "from findiff import FinDiff\n",
    "import numpy as np\n",
    "import torch\n",
    "import gpytorch\n",
    "import matplotlib.pyplot as plt\n",
    "from findiff import FinDiff, PDE, BoundaryConditions, Coef\n",
    "from findiff.diff import Id"
   ]
  },
  {
   "cell_type": "code",
   "execution_count": 37,
   "id": "4b5d2b66-05a9-4abc-88c4-a7ceb97a07ad",
   "metadata": {},
   "outputs": [
    {
     "name": "stdout",
     "output_type": "stream",
     "text": [
      "torch.Size([99, 99])\n",
      "1\n"
     ]
    }
   ],
   "source": [
    "x, y = [np.linspace(0, 1, 10)] *2\n",
    "X, Y = np.meshgrid(x, y, indexing='ij')\n",
    "u = np.identity((len(x)))\n",
    "laplace_2d = FinDiff(0, x[1]-x[0], 2) + FinDiff(1, y[1]-y[0], 2)\n",
    "\n",
    "# print('this below is what i need')\n",
    "# print(laplace_2d.matrix(u.shape).toarray())\n",
    "\n",
    "test = laplace_2d.matrix(u.shape).toarray()\n",
    "\n",
    "lam_full, u_full = torch.linalg.eigh(torch.tensor(test))\n",
    "\n",
    "test_rest = test[1:,1:]\n",
    "\n",
    "lam_res, u_res = torch.linalg.eigh(torch.tensor(test_rest))\n",
    "\n",
    "print(u_res.shape)\n",
    "\n",
    "count = 0\n",
    "for row_res, row_full in zip(u_res, u_full):\n",
    "    if np.abs(row_full[2].item() - row_full[0].item()) < 0.0000000001:\n",
    "        count+=1\n",
    "    \n",
    "print(count)\n",
    "\n",
    "\n",
    "# stencil = laplace_2d.stencil(u.shape)\n",
    "# This here seems useless atm idk\n",
    "# print(len(stencil.data))\n",
    "\n",
    "# print(stencil.apply_all(u)/324)"
   ]
  },
  {
   "cell_type": "code",
   "execution_count": 41,
   "id": "4ee354d7-5c05-40b0-99d8-2db546bbc1e6",
   "metadata": {},
   "outputs": [],
   "source": [
    "def make_laplace_one_d(shape : int):\n",
    "    if isinstance(shape, tuple):\n",
    "        shape = shape[0]\n",
    "    assert shape >=4, \"Cannot do less than 4x4 apparently\"\n",
    "    return L.stencil((shape,shape)).apply_all(np.eye(shape))\n",
    "\n",
    "shape = (300, )\n",
    "t = np.linspace(0, 10, shape[0])\n",
    "dt = t[1]-t[0]\n",
    "\n",
    "ALPHA = 3\n",
    "OMEGA = 2\n",
    "LAMBDA = 0\n",
    "\n",
    "laplace_1d = FinDiff(0,dt,2) - Coef(LAMBDA)*Id()\n",
    "\n",
    "L = FinDiff(0, dt, 2) - Coef(ALPHA)*FinDiff(0, dt, 1) + Coef(OMEGA**2)*Id()\n",
    "\n",
    "f = np.sin(t)\n",
    "\n",
    "bc = BoundaryConditions(shape)\n",
    "# bc[0] = 0\n",
    "# bc[-1] = 0\n",
    "bc[0] = FinDiff(0, dt, 1), 0\n",
    "bc[-1] = FinDiff(0, dt, 1), 0\n",
    "pde = PDE(laplace_1d, f, bc)\n",
    "u_true = pde.solve()\n",
    "# lam_res, u_res = torch.linalg.eigh(torch.tensor(test_rest))\n",
    "\n",
    "# u_full = np.zeros(u_res.shape)"
   ]
  },
  {
   "cell_type": "code",
   "execution_count": 42,
   "id": "1b2f967b-3793-463d-85d4-8d0a222c7fd6",
   "metadata": {},
   "outputs": [
    {
     "data": {
      "text/plain": [
       "[<matplotlib.lines.Line2D at 0x7f02dc1d9730>]"
      ]
     },
     "execution_count": 42,
     "metadata": {},
     "output_type": "execute_result"
    },
    {
     "data": {
      "image/png": "[encoded data removed]",
      "text/plain": [
       "<Figure size 432x288 with 1 Axes>"
      ]
     },
     "metadata": {
      "needs_background": "light"
     },
     "output_type": "display_data"
    }
   ],
   "source": [
    "plt.plot(u_true)\n"
   ]
  },
  {
   "cell_type": "code",
   "execution_count": null,
   "id": "44732183-8b45-411e-b6c1-cb3ace048351",
   "metadata": {},
   "outputs": [],
   "source": []
  }
 ],
 "metadata": {
  "kernelspec": {
   "display_name": "dsml",
   "language": "python",
   "name": "dsml"
  },
  "language_info": {
   "codemirror_mode": {
    "name": "ipython",
    "version": 3
   },
   "file_extension": ".py",
   "mimetype": "text/x-python",
   "name": "python",
   "nbconvert_exporter": "python",
   "pygments_lexer": "ipython3",
   "version": "3.9.12"
  }
 },
 "nbformat": 4,
 "nbformat_minor": 5
}
