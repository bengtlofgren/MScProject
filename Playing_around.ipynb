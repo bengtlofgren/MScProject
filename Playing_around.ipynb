{
 "cells": [
  {
   "cell_type": "code",
   "execution_count": 1,
   "id": "97ddbeae-fb46-49d8-80e3-53fa39e90ddf",
   "metadata": {},
   "outputs": [],
   "source": [
    "import findiff\n",
    "from findiff import FinDiff\n",
    "import numpy as np\n",
    "import torch\n",
    "import gpytorch"
   ]
  },
  {
   "cell_type": "code",
   "execution_count": 2,
   "id": "4b5d2b66-05a9-4abc-88c4-a7ceb97a07ad",
   "metadata": {},
   "outputs": [
    {
     "name": "stdout",
     "output_type": "stream",
     "text": [
      "torch.Size([99, 99])\n",
      "1\n"
     ]
    }
   ],
   "source": [
    "x, y = [np.linspace(0, 1, 10)] *2\n",
    "X, Y = np.meshgrid(x, y, indexing='ij')\n",
    "u = np.identity((len(x)))\n",
    "laplace_2d = FinDiff(0, x[1]-x[0], 2) + FinDiff(1, y[1]-y[0], 2)\n",
    "\n",
    "# print('this below is what i need')\n",
    "# print(laplace_2d.matrix(u.shape).toarray())\n",
    "\n",
    "test = laplace_2d.matrix(u.shape).toarray()\n",
    "\n",
    "lam_full, u_full = torch.linalg.eigh(torch.tensor(test))\n",
    "\n",
    "test_rest = test[1:,1:]\n",
    "\n",
    "lam_res, u_res = torch.linalg.eigh(torch.tensor(test_rest))\n",
    "\n",
    "print(u_res.shape)\n",
    "\n",
    "count = 0\n",
    "for row_res, row_full in zip(u_res, u_full):\n",
    "    if np.abs(row_full[2].item() - row_full[0].item()) < 0.0000000001:\n",
    "        count+=1\n",
    "    \n",
    "print(count)\n",
    "\n",
    "\n",
    "# stencil = laplace_2d.stencil(u.shape)\n",
    "# This here seems useless atm idk\n",
    "# print(len(stencil.data))\n",
    "\n",
    "# print(stencil.apply_all(u)/324)"
   ]
  },
  {
   "cell_type": "code",
   "execution_count": 7,
   "id": "4ee354d7-5c05-40b0-99d8-2db546bbc1e6",
   "metadata": {},
   "outputs": [
    {
     "ename": "TypeError",
     "evalue": "object of type 'int' has no len()",
     "output_type": "error",
     "traceback": [
      "\u001b[0;31m---------------------------------------------------------------------------\u001b[0m",
      "\u001b[0;31mTypeError\u001b[0m                                 Traceback (most recent call last)",
      "Input \u001b[0;32mIn [7]\u001b[0m, in \u001b[0;36m<cell line: 26>\u001b[0;34m()\u001b[0m\n\u001b[1;32m     23\u001b[0m pde \u001b[38;5;241m=\u001b[39m PDE(laplace_1d, f, bc)\n\u001b[1;32m     24\u001b[0m u_true \u001b[38;5;241m=\u001b[39m pde\u001b[38;5;241m.\u001b[39msolve()\n\u001b[0;32m---> 26\u001b[0m test \u001b[38;5;241m=\u001b[39m \u001b[43mlaplace_1d\u001b[49m\u001b[38;5;241;43m.\u001b[39;49m\u001b[43mmatrix\u001b[49m\u001b[43m(\u001b[49m\u001b[43mt\u001b[49m\u001b[38;5;241;43m.\u001b[39;49m\u001b[43mshape\u001b[49m\u001b[43m[\u001b[49m\u001b[38;5;241;43m0\u001b[39;49m\u001b[43m]\u001b[49m\u001b[43m)\u001b[49m\u001b[38;5;241m.\u001b[39mtoarray()\n\u001b[1;32m     27\u001b[0m test_rest \u001b[38;5;241m=\u001b[39m test[\u001b[38;5;241m1\u001b[39m:,\u001b[38;5;241m1\u001b[39m:]\n",
      "File \u001b[0;32m~/anaconda3/envs/dsml/lib/python3.9/site-packages/findiff/diff.py:123\u001b[0m, in \u001b[0;36mMinus.matrix\u001b[0;34m(self, shape, *args, **kwargs)\u001b[0m\n\u001b[1;32m    121\u001b[0m left, right \u001b[38;5;241m=\u001b[39m \u001b[38;5;28mself\u001b[39m\u001b[38;5;241m.\u001b[39mleft, \u001b[38;5;28mself\u001b[39m\u001b[38;5;241m.\u001b[39mright\n\u001b[1;32m    122\u001b[0m \u001b[38;5;28;01mif\u001b[39;00m \u001b[38;5;28misinstance\u001b[39m(\u001b[38;5;28mself\u001b[39m\u001b[38;5;241m.\u001b[39mleft, Operator):\n\u001b[0;32m--> 123\u001b[0m     left \u001b[38;5;241m=\u001b[39m \u001b[38;5;28;43mself\u001b[39;49m\u001b[38;5;241;43m.\u001b[39;49m\u001b[43mleft\u001b[49m\u001b[38;5;241;43m.\u001b[39;49m\u001b[43mmatrix\u001b[49m\u001b[43m(\u001b[49m\u001b[43mshape\u001b[49m\u001b[43m,\u001b[49m\u001b[43m \u001b[49m\u001b[38;5;241;43m*\u001b[39;49m\u001b[43margs\u001b[49m\u001b[43m,\u001b[49m\u001b[43m \u001b[49m\u001b[38;5;241;43m*\u001b[39;49m\u001b[38;5;241;43m*\u001b[39;49m\u001b[43mkwargs\u001b[49m\u001b[43m)\u001b[49m\n\u001b[1;32m    124\u001b[0m \u001b[38;5;28;01mif\u001b[39;00m \u001b[38;5;28misinstance\u001b[39m(\u001b[38;5;28mself\u001b[39m\u001b[38;5;241m.\u001b[39mright, Operator):\n\u001b[1;32m    125\u001b[0m     right \u001b[38;5;241m=\u001b[39m \u001b[38;5;28mself\u001b[39m\u001b[38;5;241m.\u001b[39mright\u001b[38;5;241m.\u001b[39mmatrix(shape, \u001b[38;5;241m*\u001b[39margs, \u001b[38;5;241m*\u001b[39m\u001b[38;5;241m*\u001b[39mkwargs)\n",
      "File \u001b[0;32m~/anaconda3/envs/dsml/lib/python3.9/site-packages/findiff/operators.py:111\u001b[0m, in \u001b[0;36mFinDiff.matrix\u001b[0;34m(self, shape, h, acc)\u001b[0m\n\u001b[1;32m    109\u001b[0m     \u001b[38;5;28;01mif\u001b[39;00m h \u001b[38;5;129;01mis\u001b[39;00m \u001b[38;5;28;01mNone\u001b[39;00m \u001b[38;5;129;01mand\u001b[39;00m \u001b[38;5;28mself\u001b[39m\u001b[38;5;241m.\u001b[39mspac \u001b[38;5;129;01mis\u001b[39;00m \u001b[38;5;129;01mnot\u001b[39;00m \u001b[38;5;28;01mNone\u001b[39;00m:\n\u001b[1;32m    110\u001b[0m         h \u001b[38;5;241m=\u001b[39m \u001b[38;5;28mself\u001b[39m\u001b[38;5;241m.\u001b[39mspac\n\u001b[0;32m--> 111\u001b[0m     \u001b[38;5;28;01mreturn\u001b[39;00m \u001b[38;5;28;43mself\u001b[39;49m\u001b[38;5;241;43m.\u001b[39;49m\u001b[43mpds\u001b[49m\u001b[38;5;241;43m.\u001b[39;49m\u001b[43mmatrix\u001b[49m\u001b[43m(\u001b[49m\u001b[43mshape\u001b[49m\u001b[43m,\u001b[49m\u001b[43m \u001b[49m\u001b[43mh\u001b[49m\u001b[38;5;241;43m=\u001b[39;49m\u001b[43mh\u001b[49m\u001b[43m,\u001b[49m\u001b[43m \u001b[49m\u001b[43macc\u001b[49m\u001b[38;5;241;43m=\u001b[39;49m\u001b[43macc\u001b[49m\u001b[43m)\u001b[49m\n\u001b[1;32m    112\u001b[0m \u001b[38;5;28;01melse\u001b[39;00m:\n\u001b[1;32m    113\u001b[0m     \u001b[38;5;28;01mreturn\u001b[39;00m \u001b[38;5;28mself\u001b[39m\u001b[38;5;241m.\u001b[39mpds\u001b[38;5;241m.\u001b[39mmatrix(shape, coords\u001b[38;5;241m=\u001b[39m\u001b[38;5;28mself\u001b[39m\u001b[38;5;241m.\u001b[39mcoords, acc\u001b[38;5;241m=\u001b[39macc)\n",
      "File \u001b[0;32m~/anaconda3/envs/dsml/lib/python3.9/site-packages/findiff/diff.py:383\u001b[0m, in \u001b[0;36mDiff.matrix\u001b[0;34m(self, shape, h, acc, coords, sparse_type)\u001b[0m\n\u001b[1;32m    365\u001b[0m \u001b[38;5;124;03m\"\"\" Matrix representation of the partial derivative.\u001b[39;00m\n\u001b[1;32m    366\u001b[0m \n\u001b[1;32m    367\u001b[0m \u001b[38;5;124;03m        :param shape: Tuple with the shape of the grid (number of grid points in each dimension)\u001b[39;00m\n\u001b[0;32m   (...)\u001b[0m\n\u001b[1;32m    379\u001b[0m \u001b[38;5;124;03m        :returns matrix representation (scipy sparse matrix)\u001b[39;00m\n\u001b[1;32m    380\u001b[0m \u001b[38;5;124;03m\"\"\"\u001b[39;00m\n\u001b[1;32m    382\u001b[0m \u001b[38;5;28;01mif\u001b[39;00m h \u001b[38;5;129;01mis\u001b[39;00m \u001b[38;5;129;01mnot\u001b[39;00m \u001b[38;5;28;01mNone\u001b[39;00m:\n\u001b[0;32m--> 383\u001b[0m     \u001b[38;5;28;01mreturn\u001b[39;00m sparse_type(\u001b[38;5;28;43mself\u001b[39;49m\u001b[38;5;241;43m.\u001b[39;49m\u001b[43m_matrix_uniform\u001b[49m\u001b[43m(\u001b[49m\u001b[43mshape\u001b[49m\u001b[43m,\u001b[49m\u001b[43m \u001b[49m\u001b[43mh\u001b[49m\u001b[43m,\u001b[49m\u001b[43m \u001b[49m\u001b[43macc\u001b[49m\u001b[43m)\u001b[49m)\n\u001b[1;32m    384\u001b[0m \u001b[38;5;28;01melif\u001b[39;00m coords \u001b[38;5;129;01mis\u001b[39;00m \u001b[38;5;129;01mnot\u001b[39;00m \u001b[38;5;28;01mNone\u001b[39;00m:\n\u001b[1;32m    385\u001b[0m     \u001b[38;5;28;01mreturn\u001b[39;00m sparse_type(\u001b[38;5;28mself\u001b[39m\u001b[38;5;241m.\u001b[39m_matrix_nonuniform(shape, coords, acc))\n",
      "File \u001b[0;32m~/anaconda3/envs/dsml/lib/python3.9/site-packages/findiff/diff.py:424\u001b[0m, in \u001b[0;36mDiff._matrix_uniform\u001b[0;34m(self, shape, h, acc)\u001b[0m\n\u001b[1;32m    420\u001b[0m     h \u001b[38;5;241m=\u001b[39m h[\u001b[38;5;28mself\u001b[39m\u001b[38;5;241m.\u001b[39maxis]\n\u001b[1;32m    422\u001b[0m acc \u001b[38;5;241m=\u001b[39m \u001b[38;5;28mself\u001b[39m\u001b[38;5;241m.\u001b[39m_properties(\u001b[38;5;28mself\u001b[39m\u001b[38;5;241m.\u001b[39macc, acc, \u001b[38;5;241m2\u001b[39m)\n\u001b[0;32m--> 424\u001b[0m ndims \u001b[38;5;241m=\u001b[39m \u001b[38;5;28;43mlen\u001b[39;49m\u001b[43m(\u001b[49m\u001b[43mshape\u001b[49m\u001b[43m)\u001b[49m\n\u001b[1;32m    425\u001b[0m siz \u001b[38;5;241m=\u001b[39m np\u001b[38;5;241m.\u001b[39mprod(shape)\n\u001b[1;32m    426\u001b[0m long_indices_nd \u001b[38;5;241m=\u001b[39m long_indices_as_ndarray(shape)\n",
      "\u001b[0;31mTypeError\u001b[0m: object of type 'int' has no len()"
     ]
    }
   ],
   "source": [
    "from findiff import FinDiff, PDE, BoundaryConditions, Coef\n",
    "from findiff.diff import Id\n",
    "\n",
    "shape = (10, )\n",
    "t = np.linspace(0, 10, shape[0])\n",
    "dt = t[1]-t[0]\n",
    "\n",
    "ALPHA = 3\n",
    "OMEGA = 2\n",
    "LAMBDA = 0\n",
    "\n",
    "laplace_1d = FinDiff(0,dt,2) - Coef(LAMBDA)*Id()\n",
    "\n",
    "L = FinDiff(0, dt, 2) - Coef(ALPHA)*FinDiff(0, dt, 1) + Coef(OMEGA**2)*Id()\n",
    "\n",
    "f = np.sin(t)\n",
    "\n",
    "bc = BoundaryConditions(shape)\n",
    "# bc[0] = 0\n",
    "# bc[-1] = 0\n",
    "bc[0] = FinDiff(0, dt, 1), 0\n",
    "bc[-1] = FinDiff(0, dt, 1), 0\n",
    "pde = PDE(laplace_1d, f, bc)\n",
    "u_true = pde.solve()\n",
    "\n",
    "test = laplace_1d.matrix(t.shape[0]).toarray()\n",
    "test_rest = test[1:,1:]\n",
    "\n",
    "# lam_res, u_res = torch.linalg.eigh(torch.tensor(test_rest))\n",
    "\n",
    "# u_full = np.zeros(u_res.shape)"
   ]
  },
  {
   "cell_type": "code",
   "execution_count": null,
   "id": "d14e1dd3-dd5c-4b7b-bcf8-0241c848f442",
   "metadata": {},
   "outputs": [],
   "source": [
    "import matplotlib.pyplot as plt\n",
    "plt.plot(u_true)"
   ]
  },
  {
   "cell_type": "code",
   "execution_count": 5,
   "id": "f2d83e8a-8598-44f6-a450-01b9da03afe2",
   "metadata": {},
   "outputs": [
    {
     "data": {
      "text/plain": [
       "array([[1.62, 0.  , 0.  , ..., 0.  , 0.  , 0.  ],\n",
       "       [0.  , 1.62, 0.  , ..., 0.  , 0.  , 0.  ],\n",
       "       [0.  , 0.  , 1.62, ..., 0.  , 0.  , 0.  ],\n",
       "       ...,\n",
       "       [0.  , 0.  , 0.  , ..., 1.62, 0.  , 0.  ],\n",
       "       [0.  , 0.  , 0.  , ..., 0.  , 1.62, 0.  ],\n",
       "       [0.  , 0.  , 0.  , ..., 0.  , 0.  , 1.62]])"
      ]
     },
     "execution_count": 5,
     "metadata": {},
     "output_type": "execute_result"
    }
   ],
   "source": [
    "test"
   ]
  },
  {
   "cell_type": "code",
   "execution_count": 39,
   "id": "1b2f967b-3793-463d-85d4-8d0a222c7fd6",
   "metadata": {},
   "outputs": [],
   "source": [
    "a = FinDiff(0,1,2)"
   ]
  },
  {
   "cell_type": "code",
   "execution_count": 43,
   "id": "a4f2f342-7b4e-4d76-97b1-356d9e98058d",
   "metadata": {},
   "outputs": [
    {
     "data": {
      "text/plain": [
       "<findiff.operators.FinDiff at 0x7fdd7c66d7f0>"
      ]
     },
     "execution_count": 43,
     "metadata": {},
     "output_type": "execute_result"
    }
   ],
   "source": [
    "a"
   ]
  },
  {
   "cell_type": "code",
   "execution_count": null,
   "id": "a0a78c8d-787c-4067-b91d-9510618adf55",
   "metadata": {},
   "outputs": [],
   "source": []
  }
 ],
 "metadata": {
  "kernelspec": {
   "display_name": "dsml",
   "language": "python",
   "name": "dsml"
  },
  "language_info": {
   "codemirror_mode": {
    "name": "ipython",
    "version": 3
   },
   "file_extension": ".py",
   "mimetype": "text/x-python",
   "name": "python",
   "nbconvert_exporter": "python",
   "pygments_lexer": "ipython3",
   "version": "3.9.12"
  }
 },
 "nbformat": 4,
 "nbformat_minor": 5
}
